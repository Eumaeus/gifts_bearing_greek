{
 "cells": [
  {
   "cell_type": "markdown",
   "metadata": {},
   "source": [
    "# Generate “Active Knowledge” Drills"
   ]
  },
  {
   "cell_type": "markdown",
   "metadata": {},
   "source": [
    "## Imports"
   ]
  },
  {
   "cell_type": "code",
   "execution_count": 104,
   "metadata": {},
   "outputs": [
    {
     "data": {
      "text/plain": [
       "\u001b[32mimport \u001b[39m\u001b[36malmond.display.UpdatableDisplay\n",
       "\u001b[39m\n",
       "\u001b[32mimport \u001b[39m\u001b[36malmond.interpreter.api.DisplayData.ContentType\n",
       "\u001b[39m\n",
       "\u001b[32mimport \u001b[39m\u001b[36malmond.interpreter.api.{DisplayData, OutputHandler}\n",
       "\n",
       "\u001b[39m\n",
       "\u001b[32mimport \u001b[39m\u001b[36mjava.io.File\n",
       "\u001b[39m\n",
       "\u001b[32mimport \u001b[39m\u001b[36mjava.io.PrintWriter\n",
       "\n",
       "\u001b[39m\n",
       "\u001b[32mimport \u001b[39m\u001b[36mscala.io.Source\n",
       "\u001b[39m\n",
       "\u001b[32mimport \u001b[39m\u001b[36mscala.util.Random\n",
       "\u001b[39m"
      ]
     },
     "execution_count": 104,
     "metadata": {},
     "output_type": "execute_result"
    }
   ],
   "source": [
    "\n",
    "import almond.display.UpdatableDisplay\n",
    "import almond.interpreter.api.DisplayData.ContentType\n",
    "import almond.interpreter.api.{DisplayData, OutputHandler}\n",
    "\n",
    "import java.io.File\n",
    "import java.io.PrintWriter\n",
    "\n",
    "import scala.io.Source\n",
    "import scala.util.Random\n"
   ]
  },
  {
   "cell_type": "markdown",
   "metadata": {},
   "source": [
    "## Useful Functions"
   ]
  },
  {
   "cell_type": "markdown",
   "metadata": {},
   "source": [
    "Load a file"
   ]
  },
  {
   "cell_type": "code",
   "execution_count": 105,
   "metadata": {},
   "outputs": [
    {
     "data": {
      "text/plain": [
       "defined \u001b[32mfunction\u001b[39m \u001b[36mloadFile\u001b[39m"
      ]
     },
     "execution_count": 105,
     "metadata": {},
     "output_type": "execute_result"
    }
   ],
   "source": [
    "def loadFile( fp: String ): Vector[String] = {\n",
    "    Source.fromFile(fp).getLines.toVector\n",
    "}\n"
   ]
  },
  {
   "cell_type": "markdown",
   "metadata": {},
   "source": [
    "Save a string to a names file:"
   ]
  },
  {
   "cell_type": "code",
   "execution_count": 106,
   "metadata": {},
   "outputs": [
    {
     "data": {
      "text/plain": [
       "defined \u001b[32mfunction\u001b[39m \u001b[36msaveString\u001b[39m"
      ]
     },
     "execution_count": 106,
     "metadata": {},
     "output_type": "execute_result"
    }
   ],
   "source": [
    "def saveString(s:String, filePath:String = \"\", fileName:String = \"temp.txt\"):Unit = {\n",
    "\t\t val writer = new PrintWriter(new File(s\"${filePath}${fileName}\"))\n",
    "         writer.write(s)\n",
    "         writer.close()\n",
    "\t}"
   ]
  },
  {
   "cell_type": "markdown",
   "metadata": {},
   "source": [
    "Like `.split`, but preserving the character we split on:"
   ]
  },
  {
   "cell_type": "code",
   "execution_count": 107,
   "metadata": {},
   "outputs": [
    {
     "data": {
      "text/plain": [
       "defined \u001b[32mfunction\u001b[39m \u001b[36msplitWithSplitter\u001b[39m"
      ]
     },
     "execution_count": 107,
     "metadata": {},
     "output_type": "execute_result"
    }
   ],
   "source": [
    "def splitWithSplitter(text: String, puncs: String): Vector[String] = {\n",
    "\t//val regexWithSplitter = s\"((?<=${puncs})|(?=${puncs}))\"\n",
    "    val regexWithSplitter = s\"((?<=${puncs}))\"\n",
    "\ttext.split(regexWithSplitter).toVector.filter(_.size > 0)\n",
    "}"
   ]
  },
  {
   "cell_type": "markdown",
   "metadata": {},
   "source": [
    "Pretty Print Things:"
   ]
  },
  {
   "cell_type": "code",
   "execution_count": 108,
   "metadata": {},
   "outputs": [
    {
     "data": {
      "text/plain": [
       "defined \u001b[32mfunction\u001b[39m \u001b[36mshowMe\u001b[39m"
      ]
     },
     "execution_count": 108,
     "metadata": {},
     "output_type": "execute_result"
    }
   ],
   "source": [
    "def showMe(v:Any):Unit = {\n",
    "  v match {\n",
    "    case _:StringHistogram => {\n",
    "        for ( h <- v.asInstanceOf[StringHistogram].histogram ) {\n",
    "            println(s\"${h.count}\\t${h.s}\")\n",
    "        }\n",
    "    }\n",
    "  \tcase _:Corpus => {\n",
    "  \t\tfor ( n <- v.asInstanceOf[Corpus].nodes) {\n",
    "  \t\t\tprintln(s\"${n.urn.passageComponent}\\t\\t${n.text}\")\n",
    "  \t\t}\t\n",
    "  \t}\n",
    "    case _:Vector[Any] => println(s\"\"\"\\n----\\n${v.asInstanceOf[Vector[Any]].mkString(\"\\n\")}\\n----\\n\"\"\")\n",
    "    case _:Iterable[Any] => println(s\"\"\"\\n----\\n${v.asInstanceOf[Iterable[Any]].mkString(\"\\n\")}\\n----\\n\"\"\")\n",
    "    case _ => println(s\"\\n-----\\n${v}\\n----\\n\")\n",
    "  }\n",
    "}"
   ]
  },
  {
   "cell_type": "markdown",
   "metadata": {},
   "source": [
    "Shuffle a Vector of Strings"
   ]
  },
  {
   "cell_type": "code",
   "execution_count": 109,
   "metadata": {},
   "outputs": [
    {
     "data": {
      "text/plain": [
       "defined \u001b[32mfunction\u001b[39m \u001b[36mshuffle\u001b[39m"
      ]
     },
     "execution_count": 109,
     "metadata": {},
     "output_type": "execute_result"
    }
   ],
   "source": [
    "def shuffle(v: Vector[String]): Vector[String] = {\n",
    "    val rr: Vector[Float] = v.map( i => {\n",
    "        scala.util.Random.nextFloat\n",
    "    })\n",
    "    val zipped: Vector[(String,Float)] = v.zip(rr)\n",
    "    zipped.sortBy( m => m._2).map(_._1)\n",
    "}"
   ]
  },
  {
   "cell_type": "markdown",
   "metadata": {},
   "source": [
    "## GIFT-Generation"
   ]
  },
  {
   "cell_type": "markdown",
   "metadata": {},
   "source": [
    "We load two files, a template and some morphological data. These get zipped together. This saves a lot of typing, since *all* \"adjectives of three terminations\" are going to have the same list of identifications (\"m/n/s, f/n/s, …\"), etc. \n",
    "\n",
    "We define our inputs (at the bottom), specify how many items we want in our output, and the name of the output file.\n",
    "\n",
    "Finally, we invoke the command `makeActiveParadigmQuiz(…)`, which generates a set of multiple choice questions, in `.gift` format, ready for Moodle. \n",
    "\n",
    "For the record… when setting up a Moodle “quiz” that you mean to be a drill , select “Adaptive Mode (no penalties)” under “Question Behavor”. This lets your students click an answer, click “check”, see if it is right, and amend their answer if it was wrong. So they should *never* get to the end of a drill with a score lower than 100%.\n",
    "\n",
    "What follows, below, are some functions that do this work. But we start with some basic Classes: `ParsedForm`,`IndexedParsedForm`, and `GradedParsedForm`."
   ]
  },
  {
   "cell_type": "markdown",
   "metadata": {},
   "source": [
    "## Classes"
   ]
  },
  {
   "cell_type": "code",
   "execution_count": 110,
   "metadata": {},
   "outputs": [
    {
     "data": {
      "text/plain": [
       "defined \u001b[32mclass\u001b[39m \u001b[36mParsedForm\u001b[39m"
      ]
     },
     "execution_count": 110,
     "metadata": {},
     "output_type": "execute_result"
    }
   ],
   "source": [
    "case class ParsedForm( parse: String, form: String)"
   ]
  },
  {
   "cell_type": "code",
   "execution_count": 111,
   "metadata": {},
   "outputs": [
    {
     "data": {
      "text/plain": [
       "defined \u001b[32mclass\u001b[39m \u001b[36mIndexedParsedForm\u001b[39m"
      ]
     },
     "execution_count": 111,
     "metadata": {},
     "output_type": "execute_result"
    }
   ],
   "source": [
    "case class IndexedParsedForm( index: Int, pform: ParsedForm)"
   ]
  },
  {
   "cell_type": "code",
   "execution_count": 112,
   "metadata": {},
   "outputs": [
    {
     "data": {
      "text/plain": [
       "defined \u001b[32mclass\u001b[39m \u001b[36mGradedForm\u001b[39m"
      ]
     },
     "execution_count": 112,
     "metadata": {},
     "output_type": "execute_result"
    }
   ],
   "source": [
    "case class GradedForm( grade: Int, form: String)"
   ]
  },
  {
   "cell_type": "markdown",
   "metadata": {},
   "source": [
    "## Pick a Card"
   ]
  },
  {
   "cell_type": "markdown",
   "metadata": {},
   "source": [
    "This function is for selecting the *wrong* answers for the multiple-choice drill. We have a *correct* answer, but we need a certain number of *wrong* answers.\n",
    "\n",
    "The challenge is to avoid picking \"bad\" wrong answers. For example, we don't want, through random selection, to pick multiple instances of the original *correct* answer.\n",
    "\n",
    "It is based on the metaphor of a deck of cards, from which we pick a certain number. The \"deck\" is a list of `IndexedParsedForm`s. We parameterize several things:\n",
    "\n",
    "- How many to pick\n",
    "- An initial one _not_ to pick\n",
    "\n",
    "This function uses tail-recursion.\n",
    "\n",
    "    (Before we do this, though, let's make a method to re-index a Vector[IndexedParsedForm]`."
   ]
  },
  {
   "cell_type": "code",
   "execution_count": 113,
   "metadata": {},
   "outputs": [
    {
     "data": {
      "text/plain": [
       "defined \u001b[32mfunction\u001b[39m \u001b[36mreindexParsedForms\u001b[39m"
      ]
     },
     "execution_count": 113,
     "metadata": {},
     "output_type": "execute_result"
    }
   ],
   "source": [
    "def reindexParsedForms( idff: Vector[IndexedParsedForm]): Vector[IndexedParsedForm] = {\n",
    "    val noIndices: Vector[ParsedForm] = idff.map(_.pform)\n",
    "    noIndices.zipWithIndex.map( ni => {\n",
    "        val idx: Int = ni._2\n",
    "        val pf: ParsedForm = ni._1\n",
    "        IndexedParsedForm(idx, pf)\n",
    "    })\n",
    "}"
   ]
  },
  {
   "cell_type": "code",
   "execution_count": 114,
   "metadata": {},
   "outputs": [
    {
     "data": {
      "text/plain": [
       "defined \u001b[32mfunction\u001b[39m \u001b[36mpickACard\u001b[39m"
      ]
     },
     "execution_count": 114,
     "metadata": {},
     "output_type": "execute_result"
    }
   ],
   "source": [
    "def pickACard( \n",
    "    cards: Vector[IndexedParsedForm], \n",
    "    howMany: Int, \n",
    "    joker: Option[IndexedParsedForm] ): Vector[IndexedParsedForm] = {\n",
    "\n",
    "    /*\n",
    "        After the code below this new `def` is executed, this function\n",
    "        will be invoked until we've picked the required number of \"cards\".\n",
    "    */\n",
    "    def pickRecurse( \n",
    "        ourHand: Vector[IndexedParsedForm], \n",
    "        whatsLeft: Vector[IndexedParsedForm]\n",
    "    ): Vector[IndexedParsedForm] = {\n",
    "        \n",
    "        if (ourHand.size == howMany) reindexParsedForms(ourHand) // > because we add the correct answer to the count\n",
    "        else {\n",
    "            val limit = whatsLeft.size\n",
    "            // Get a random next item!\n",
    "            val r = scala.util.Random\n",
    "            val pickedIndex: Int = r.nextInt(limit)\n",
    "            // We have confidence in our re-indexing!\n",
    "            val pickedCard: IndexedParsedForm = whatsLeft.filter( wl => {\n",
    "                wl.index == pickedIndex\n",
    "            }).head\n",
    "            \n",
    "            // Add picked card to our \"hand\"\n",
    "            val newHand: Vector[IndexedParsedForm] = ourHand :+ pickedCard\n",
    "            \n",
    "            // We remove the picked card from the deck\n",
    "            val newDeck: Vector[IndexedParsedForm] = {\n",
    "                val withCardRemoved = whatsLeft.filter( _ != pickedCard )\n",
    "                // And so as not to bore the user with repeated forms…\n",
    "                val withCardsFormsRemoved = withCardRemoved.filter( c => {\n",
    "                    c.pform.form != pickedCard.pform.form\n",
    "                })\n",
    "                // and re-index…\n",
    "                reindexParsedForms(withCardsFormsRemoved)\n",
    "            }\n",
    "            // recurse!\n",
    "            pickRecurse( newHand, newDeck)\n",
    "        }\n",
    "        \n",
    "    }\n",
    "    \n",
    "    // remove the joker from the deck\n",
    "    val noJokers: Vector[IndexedParsedForm] = {\n",
    "        joker match {\n",
    "        case Some(j) => {\n",
    "            // We remove the initial joker…\n",
    "            val origJokerGone: Vector[IndexedParsedForm] = cards.filter( c => {\n",
    "                c.index != j.index\n",
    "            })\n",
    "            /* Because this is an _active_ drill, we want to eliminate \n",
    "               all FORMS that match that of the Joker,\n",
    "               otherwise, students may have to click on \n",
    "               three instances of \"τῶν\", to answer \"definitive article: masc. gen. pl.\"\n",
    "            */\n",
    "            val matchingFormsGone: Vector[IndexedParsedForm] = origJokerGone.filter( c => {\n",
    "                c.pform.form != j.pform.form\n",
    "            })\n",
    "            // We reindex!\n",
    "            reindexParsedForms(matchingFormsGone)\n",
    "        }\n",
    "        case None => cards\n",
    "        }\n",
    "    }\n",
    "    \n",
    "    /* Now that we've gotten rid of the \"joker\", we can set up the recurse… */\n",
    "    \n",
    "    // emptyVec will be the starting value for `ourHand`\n",
    "    val emptyVec: Vector[IndexedParsedForm] = Vector[IndexedParsedForm]()\n",
    "\tpickRecurse( emptyVec, noJokers )\n",
    "}"
   ]
  },
  {
   "cell_type": "markdown",
   "metadata": {},
   "source": [
    "## Make Question"
   ]
  },
  {
   "cell_type": "markdown",
   "metadata": {},
   "source": [
    "This function assembles everything needed to create a drill question. \n",
    "\n",
    "What is needed is:\n",
    "\n",
    "- A correct answer: a `ParsedForm`\n",
    "- A Vector of other answers: a `Vector[ParsedForm]`\n",
    "\n",
    "But it is more complicated than that. Obviously, our correct answer is correct. But it may be that some of our other answers are also correct. E.g. \"The feminine genitive singular of 'who?'\" might be **τίνος**, but it might be **τοῦ**. If **τοῦ** shows up, randomly, as an \"other\" answer, we need, not only to give the student credit for picking it, to *insist* that the user pick both **τοῦ** and **τίνος**.\n",
    "\n",
    "This is where `GradedForm` comes in."
   ]
  },
  {
   "cell_type": "code",
   "execution_count": 115,
   "metadata": {},
   "outputs": [
    {
     "data": {
      "text/plain": [
       "defined \u001b[32mfunction\u001b[39m \u001b[36mmakeQ\u001b[39m"
      ]
     },
     "execution_count": 115,
     "metadata": {},
     "output_type": "execute_result"
    }
   ],
   "source": [
    "def makeQ( correct: IndexedParsedForm, deck: Vector[IndexedParsedForm], choices: Int = 5): Vector[GradedForm] = {\n",
    "   \n",
    "    val otherAnswers: Vector[IndexedParsedForm] = pickACard( deck, choices, Some(correct))\n",
    "    \n",
    "    // We might end up with more than one correct answer…\n",
    "    val numberCorrect: Int = {\n",
    "        otherAnswers.filter( a => {\n",
    "            a.pform.parse == correct.pform.parse\n",
    "        }).size + 1\n",
    "    }\n",
    "    \n",
    "    // Make GradedForms\n",
    "    val allAnswers: Vector[IndexedParsedForm] = correct +: otherAnswers\n",
    "    val gradedAnswers: Vector[GradedForm] = allAnswers.map( aa => {\n",
    "        val form = aa.pform.form\n",
    "        // Is this one correct?\n",
    "        val isCorrect: Boolean = ( aa.pform.parse == correct.pform.parse ) \n",
    "        val grade: Int = {\n",
    "            if (isCorrect) 100 / numberCorrect\n",
    "            else -100\n",
    "        }\n",
    "        GradedForm(grade, form)\n",
    "    })\n",
    "    gradedAnswers\n",
    "}"
   ]
  },
  {
   "cell_type": "markdown",
   "metadata": {},
   "source": [
    "Turn question-data into a GIFT string."
   ]
  },
  {
   "cell_type": "code",
   "execution_count": 116,
   "metadata": {},
   "outputs": [
    {
     "data": {
      "text/plain": [
       "defined \u001b[32mfunction\u001b[39m \u001b[36mmakeGiftQuestion\u001b[39m"
      ]
     },
     "execution_count": 116,
     "metadata": {},
     "output_type": "execute_result"
    }
   ],
   "source": [
    "def makeGiftQuestion(questionIntro: String, prompt: String, answers: Vector[GradedForm], index: Int): String = {\n",
    "    \n",
    "    val firstBit: String = s\"\"\"::Q${index}::[markdown]Give the ${questionIntro}: ${prompt} {\"\"\"\n",
    "    val lastBit: String = \"}\"\n",
    "    \n",
    "    val answerStrings: Vector[String] = answers.map( a => {\n",
    "        s\"~%${a.grade}%${a.form}\"\n",
    "    })\n",
    "    \n",
    "    val shuffledAnswers: Vector[String] = shuffle(answerStrings)\n",
    "    \n",
    "    \n",
    "    firstBit + \"\\n\" + shuffledAnswers.mkString(\"\\n\") + \"\\n\" + lastBit\n",
    "}"
   ]
  },
  {
   "cell_type": "markdown",
   "metadata": {},
   "source": [
    "Make the actual drill!"
   ]
  },
  {
   "cell_type": "code",
   "execution_count": 117,
   "metadata": {},
   "outputs": [
    {
     "data": {
      "text/plain": [
       "defined \u001b[32mfunction\u001b[39m \u001b[36mshuffleParsedForms\u001b[39m\n",
       "defined \u001b[32mfunction\u001b[39m \u001b[36mmakeGiftDrill\u001b[39m"
      ]
     },
     "execution_count": 117,
     "metadata": {},
     "output_type": "execute_result"
    }
   ],
   "source": [
    "def shuffleParsedForms( forms: Vector[ParsedForm]): Vector[ParsedForm] = {\n",
    "    val rr: Vector[Float] = forms.map( i => {\n",
    "        scala.util.Random.nextFloat\n",
    "    })\n",
    "    val zipped: Vector[(ParsedForm,Float)] = forms.zip(rr)\n",
    "    zipped.sortBy( m => m._2).map(_._1)\n",
    "}\n",
    "\n",
    "def makeGiftDrill( \n",
    "    dataPath: String, \n",
    "    template: String,\n",
    "    morph: String,\n",
    "    outputPath: String,\n",
    "    outputName: String,\n",
    "    howMany: Int,\n",
    "    howManyChoices: Int = 5\n",
    "): Unit = {\n",
    "    \n",
    "    println(howManyChoices)\n",
    "    \n",
    "    val forms: Vector[String] = {\n",
    "        loadFile(s\"${dataPath}${morph}\")\n",
    "    }\n",
    "\n",
    "    val parsings: Vector[String] = {\n",
    "        loadFile(s\"${dataPath}${template}\")\n",
    "    }\n",
    "    \n",
    "    val formName: String = forms.head // The first line of a morphology file, used to generate the question.\n",
    "\n",
    "    val parsedForms: Vector[ParsedForm] = parsings.tail.zip(forms.tail).map( t => {\n",
    "        ParsedForm( t._1, t._2)\n",
    "    })\n",
    "\n",
    "    /* \n",
    "        Here is where howMany comes in. There are several cases to consider\n",
    "        - howMany is 0 (= make one for each form in the data)\n",
    "        - howMany is less than howManyChoices (won't do…)\n",
    "        - howMany is less than the total number of forms\n",
    "        - howMany is greater than the total number of forms\n",
    "    */\n",
    "    \n",
    "    val useThese: Vector[ParsedForm] = {\n",
    "        if (howMany == 0) shuffleParsedForms(parsedForms)\n",
    "        else {\n",
    "            if (howMany <= parsedForms.size) {\n",
    "                if (howMany < howManyChoices) shuffleParsedForms(parsedForms).take(howManyChoices)\n",
    "                else shuffleParsedForms(parsedForms).take(howMany)\n",
    "            } else {\n",
    "                val howManyCopies: Int = (howMany / parsedForms.size) + 1\n",
    "                val longList: Vector[ParsedForm] = {\n",
    "                    (1 to howManyCopies).toVector.map(c => {\n",
    "                        parsedForms\n",
    "                    }).flatten\n",
    "                }\n",
    "                shuffleParsedForms(longList).take(howMany)\n",
    "            }\n",
    "        }\n",
    "    }\n",
    "    \n",
    "    val indexedParsedForms: Vector[IndexedParsedForm] = {\n",
    "        useThese.zipWithIndex.map( t => {\n",
    "            val pform = t._1\n",
    "            val idx = t._2\n",
    "            IndexedParsedForm(idx, pform)\n",
    "        })\n",
    "    }\n",
    "    \n",
    "    val questions: Vector[String] = {\n",
    "       indexedParsedForms.map( pf => {\n",
    "           val prompt: String = pf.pform.parse\n",
    "           val qs: Vector[GradedForm] = {\n",
    "               makeQ( pf, indexedParsedForms, howManyChoices)\n",
    "           }\n",
    "           makeGiftQuestion( formName, prompt, qs, pf.index)\n",
    "       })\n",
    "    \n",
    "    }\n",
    "    \n",
    "    val quiz: String = {\n",
    "        // Includes a hack for how Moodle requires us to do partial credit\n",
    "        questions.mkString(\"\\n\\n\").replaceAll(\"%33%\",\"%33.333%\")\n",
    "    }\n",
    "    \n",
    "    //println(quiz)\n",
    "    \n",
    "    saveString( quiz, outputPath, outputName )\n",
    "\n",
    "    \n",
    "}"
   ]
  },
  {
   "cell_type": "markdown",
   "metadata": {},
   "source": [
    "## Do it!"
   ]
  },
  {
   "cell_type": "markdown",
   "metadata": {},
   "source": [
    "Set up your data:"
   ]
  },
  {
   "cell_type": "code",
   "execution_count": 118,
   "metadata": {},
   "outputs": [
    {
     "name": "stdout",
     "output_type": "stream",
     "text": [
      "4\n"
     ]
    },
    {
     "data": {
      "text/plain": [
       "\u001b[36mmorphDataDir\u001b[39m: \u001b[32mString\u001b[39m = \u001b[32m\"morphology/\"\u001b[39m\n",
       "\u001b[36mgiftDir\u001b[39m: \u001b[32mString\u001b[39m = \u001b[32m\"gifts/\"\u001b[39m\n",
       "\u001b[36mmorphData\u001b[39m: \u001b[32mString\u001b[39m = \u001b[32m\"def_article.txt\"\u001b[39m\n",
       "\u001b[36mtemplate\u001b[39m: \u001b[32mString\u001b[39m = \u001b[32m\"template_adjective_3.txt\"\u001b[39m\n",
       "\u001b[36mfileName\u001b[39m: \u001b[32mString\u001b[39m = \u001b[32m\"active_definite_article2.gift\"\u001b[39m\n",
       "\u001b[36mhowMany\u001b[39m: \u001b[32mInt\u001b[39m = \u001b[32m50\u001b[39m\n",
       "\u001b[36mhowManyChoices\u001b[39m: \u001b[32mInt\u001b[39m = \u001b[32m4\u001b[39m"
      ]
     },
     "execution_count": 118,
     "metadata": {},
     "output_type": "execute_result"
    }
   ],
   "source": [
    "val morphDataDir: String = \"morphology/\"\n",
    "val giftDir: String = \"gifts/\"\n",
    "\n",
    "val morphData: String = \"def_article.txt\"\n",
    "val template: String = \"template_adjective_3.txt\"\n",
    "val fileName: String = \"active_definite_article1.gift\"\n",
    "\n",
    "val howMany: Int = 50 // How many questions to make, set to 0 to make one item for each form in the data.\n",
    "val howManyChoices: Int = 4 // How many multiple-choices (in addition to the correct one) to offer\n",
    "\n",
    "makeGiftDrill( \n",
    "    morphDataDir,\n",
    "    template,\n",
    "    morphData,\n",
    "    giftDir,\n",
    "    fileName,\n",
    "    howMany,\n",
    "    howManyChoices\n",
    ")"
   ]
  }
 ],
 "metadata": {
  "kernel_info": {
   "name": "scala"
  },
  "kernelspec": {
   "display_name": "Scala",
   "language": "scala",
   "name": "scala"
  },
  "language_info": {
   "codemirror_mode": "text/x-scala",
   "file_extension": ".scala",
   "mimetype": "text/x-scala",
   "name": "scala",
   "nbconvert_exporter": "script",
   "version": "2.12.10"
  },
  "nteract": {
   "version": "0.15.0"
  }
 },
 "nbformat": 4,
 "nbformat_minor": 2
}
