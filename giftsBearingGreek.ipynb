{
 "cells": [
  {
   "cell_type": "markdown",
   "metadata": {},
   "source": [
    "# Transforming a Text file to CEX\n",
    "\n"
   ]
  },
  {
   "cell_type": "markdown",
   "metadata": {},
   "source": [
    "## Configuring CITE libraries for almond kernel\n",
    "\n",
    "First, we'll make a bintray repository with CITE libraries available to your almond kernel."
   ]
  },
  {
   "cell_type": "code",
   "execution_count": 1,
   "metadata": {},
   "outputs": [
    {
     "data": {
      "text/plain": [
       "\u001b[36mmyBT\u001b[39m: \u001b[32mcoursierapi\u001b[39m.\u001b[32mMavenRepository\u001b[39m = MavenRepository(https://dl.bintray.com/neelsmith/maven)"
      ]
     },
     "execution_count": 1,
     "metadata": {},
     "output_type": "execute_result"
    }
   ],
   "source": [
    "val myBT = coursierapi.MavenRepository.of(\"https://dl.bintray.com/neelsmith/maven\")\n",
    "interp.repositories() ++= Seq(myBT)"
   ]
  },
  {
   "cell_type": "markdown",
   "metadata": {},
   "source": [
    "Next, we bring in specific libraries from the new repository using almond's `$ivy` magic:"
   ]
  },
  {
   "cell_type": "code",
   "execution_count": 2,
   "metadata": {},
   "outputs": [
    {
     "data": {
      "text/plain": [
       "\u001b[32mimport \u001b[39m\u001b[36m$ivy.$                                  \n",
       "\u001b[39m\n",
       "\u001b[32mimport \u001b[39m\u001b[36m$ivy.$                                     \n",
       "\u001b[39m\n",
       "\u001b[32mimport \u001b[39m\u001b[36m$ivy.$                              \n",
       "\u001b[39m\n",
       "\u001b[32mimport \u001b[39m\u001b[36m$ivy.$                              \n",
       "\u001b[39m\n",
       "\u001b[32mimport \u001b[39m\u001b[36m$ivy.$                                          \n",
       "\u001b[39m\n",
       "\u001b[32mimport \u001b[39m\u001b[36m$ivy.$                                  \n",
       "\u001b[39m\n",
       "\u001b[32mimport \u001b[39m\u001b[36m$ivy.$                                        \n",
       "\u001b[39m\n",
       "\u001b[32mimport \u001b[39m\u001b[36m$ivy.$                              \n",
       "\u001b[39m"
      ]
     },
     "execution_count": 2,
     "metadata": {},
     "output_type": "execute_result"
    }
   ],
   "source": [
    "import $ivy.`edu.holycross.shot::ohco2:10.16.0`\n",
    "import $ivy.`edu.holycross.shot.cite::xcite:4.1.1`\n",
    "import $ivy.`edu.holycross.shot::scm:7.2.0`\n",
    "import $ivy.`edu.holycross.shot::dse:5.2.2`\n",
    "import $ivy.`edu.holycross.shot::citebinaryimage:3.1.1`\n",
    "import $ivy.`edu.holycross.shot::citeobj:7.3.4`\n",
    "import $ivy.`edu.holycross.shot::citerelations:2.5.2`\n",
    "import $ivy.`edu.holycross.shot::cex:6.3.3`\n"
   ]
  },
  {
   "cell_type": "markdown",
   "metadata": {},
   "source": [
    "## Imports\n",
    "\n",
    "From this point on, your notebook consists of completely generic Scala, with the CITE Libraries available to use."
   ]
  },
  {
   "cell_type": "code",
   "execution_count": 3,
   "metadata": {},
   "outputs": [
    {
     "data": {
      "text/plain": [
       "\u001b[32mimport \u001b[39m\u001b[36medu.holycross.shot.cite._\n",
       "\u001b[39m\n",
       "\u001b[32mimport \u001b[39m\u001b[36medu.holycross.shot.ohco2._\n",
       "\u001b[39m\n",
       "\u001b[32mimport \u001b[39m\u001b[36medu.holycross.shot.scm._\n",
       "\u001b[39m\n",
       "\u001b[32mimport \u001b[39m\u001b[36medu.holycross.shot.citeobj._\n",
       "\u001b[39m\n",
       "\u001b[32mimport \u001b[39m\u001b[36medu.holycross.shot.citerelation._\n",
       "\u001b[39m\n",
       "\u001b[32mimport \u001b[39m\u001b[36medu.holycross.shot.dse._\n",
       "\u001b[39m\n",
       "\u001b[32mimport \u001b[39m\u001b[36medu.holycross.shot.citebinaryimage._\n",
       "\u001b[39m\n",
       "\u001b[32mimport \u001b[39m\u001b[36medu.holycross.shot.ohco2._\n",
       "\n",
       "\u001b[39m\n",
       "\u001b[32mimport \u001b[39m\u001b[36malmond.display.UpdatableDisplay\n",
       "\u001b[39m\n",
       "\u001b[32mimport \u001b[39m\u001b[36malmond.interpreter.api.DisplayData.ContentType\n",
       "\u001b[39m\n",
       "\u001b[32mimport \u001b[39m\u001b[36malmond.interpreter.api.{DisplayData, OutputHandler}\n",
       "\n",
       "\u001b[39m\n",
       "\u001b[32mimport \u001b[39m\u001b[36mjava.io.File\n",
       "\u001b[39m\n",
       "\u001b[32mimport \u001b[39m\u001b[36mjava.io.PrintWriter\n",
       "\n",
       "\u001b[39m\n",
       "\u001b[32mimport \u001b[39m\u001b[36mscala.io.Source\n",
       "\u001b[39m"
      ]
     },
     "execution_count": 3,
     "metadata": {},
     "output_type": "execute_result"
    }
   ],
   "source": [
    "// Import some CITE libraries\n",
    "import edu.holycross.shot.cite._\n",
    "import edu.holycross.shot.ohco2._\n",
    "import edu.holycross.shot.scm._\n",
    "import edu.holycross.shot.citeobj._\n",
    "import edu.holycross.shot.citerelation._\n",
    "import edu.holycross.shot.dse._\n",
    "import edu.holycross.shot.citebinaryimage._\n",
    "import edu.holycross.shot.ohco2._\n",
    "\n",
    "import almond.display.UpdatableDisplay\n",
    "import almond.interpreter.api.DisplayData.ContentType\n",
    "import almond.interpreter.api.{DisplayData, OutputHandler}\n",
    "\n",
    "import java.io.File\n",
    "import java.io.PrintWriter\n",
    "\n",
    "import scala.io.Source\n"
   ]
  },
  {
   "cell_type": "markdown",
   "metadata": {},
   "source": [
    "## Useful Functions"
   ]
  },
  {
   "cell_type": "markdown",
   "metadata": {},
   "source": [
    "Save a string to a names file:"
   ]
  },
  {
   "cell_type": "code",
   "execution_count": 4,
   "metadata": {},
   "outputs": [
    {
     "data": {
      "text/plain": [
       "defined \u001b[32mfunction\u001b[39m \u001b[36msaveString\u001b[39m"
      ]
     },
     "execution_count": 4,
     "metadata": {},
     "output_type": "execute_result"
    }
   ],
   "source": [
    "def saveString(s:String, filePath:String = \"\", fileName:String = \"temp.txt\"):Unit = {\n",
    "\t\t val writer = new PrintWriter(new File(s\"${filePath}${fileName}\"))\n",
    "         writer.write(s)\n",
    "         writer.close()\n",
    "\t}"
   ]
  },
  {
   "cell_type": "markdown",
   "metadata": {},
   "source": [
    "Convert a Roman Numeral to an Integer:"
   ]
  },
  {
   "cell_type": "code",
   "execution_count": 5,
   "metadata": {},
   "outputs": [
    {
     "data": {
      "text/plain": [
       "defined \u001b[32mfunction\u001b[39m \u001b[36mfromRoman\u001b[39m"
      ]
     },
     "execution_count": 5,
     "metadata": {},
     "output_type": "execute_result"
    }
   ],
   "source": [
    "def fromRoman(s: String) : Int = {\n",
    "\ttry {\n",
    "\t\tval numerals = Map('I' -> 1, 'V' -> 5, 'X' -> 10, 'L' -> 50, 'C' -> 100, 'D' -> 500, 'M' -> 1000)\n",
    "\n",
    "\t\ts.toUpperCase.map(numerals).foldLeft((0,0)) {\n",
    "\t\t  case ((sum, last), curr) =>  (sum + curr + (if (last < curr) -2*last else 0), curr) }._1\n",
    "\t} catch {\n",
    "\t\tcase e:Exception => throw new Exception(s\"\"\" \"${s}\" is not a valid Roman Numeral.\"\"\")\n",
    "\t}\n",
    "}"
   ]
  },
  {
   "cell_type": "markdown",
   "metadata": {},
   "source": [
    "Like `.split`, but preserving the character we split on:"
   ]
  },
  {
   "cell_type": "code",
   "execution_count": 6,
   "metadata": {},
   "outputs": [
    {
     "data": {
      "text/plain": [
       "defined \u001b[32mfunction\u001b[39m \u001b[36msplitWithSplitter\u001b[39m"
      ]
     },
     "execution_count": 6,
     "metadata": {},
     "output_type": "execute_result"
    }
   ],
   "source": [
    "def splitWithSplitter(text: String, puncs: String): Vector[String] = {\n",
    "\t//val regexWithSplitter = s\"((?<=${puncs})|(?=${puncs}))\"\n",
    "    val regexWithSplitter = s\"((?<=${puncs}))\"\n",
    "\ttext.split(regexWithSplitter).toVector.filter(_.size > 0)\n",
    "}"
   ]
  },
  {
   "cell_type": "markdown",
   "metadata": {},
   "source": [
    "Pretty Print Things:"
   ]
  },
  {
   "cell_type": "code",
   "execution_count": 7,
   "metadata": {},
   "outputs": [
    {
     "data": {
      "text/plain": [
       "defined \u001b[32mfunction\u001b[39m \u001b[36mshowMe\u001b[39m"
      ]
     },
     "execution_count": 7,
     "metadata": {},
     "output_type": "execute_result"
    }
   ],
   "source": [
    "def showMe(v:Any):Unit = {\n",
    "  v match {\n",
    "    case _:StringHistogram => {\n",
    "        for ( h <- v.asInstanceOf[StringHistogram].histogram ) {\n",
    "            println(s\"${h.count}\\t${h.s}\")\n",
    "        }\n",
    "    }\n",
    "  \tcase _:Corpus => {\n",
    "  \t\tfor ( n <- v.asInstanceOf[Corpus].nodes) {\n",
    "  \t\t\tprintln(s\"${n.urn.passageComponent}\\t\\t${n.text}\")\n",
    "  \t\t}\t\n",
    "  \t}\n",
    "    case _:Vector[Any] => println(s\"\"\"\\n----\\n${v.asInstanceOf[Vector[Any]].mkString(\"\\n\")}\\n----\\n\"\"\")\n",
    "    case _:Iterable[Any] => println(s\"\"\"\\n----\\n${v.asInstanceOf[Iterable[Any]].mkString(\"\\n\")}\\n----\\n\"\"\")\n",
    "    case _ => println(s\"\\n-----\\n${v}\\n----\\n\")\n",
    "  }\n",
    "}"
   ]
  },
  {
   "cell_type": "markdown",
   "metadata": {},
   "source": [
    "## Load a Template File"
   ]
  },
  {
   "cell_type": "markdown",
   "metadata": {},
   "source": [
    "Load it into a Vector[String], filtering out any empty lines:"
   ]
  },
  {
   "cell_type": "code",
   "execution_count": 8,
   "metadata": {
    "scrolled": true
   },
   "outputs": [
    {
     "data": {
      "text/plain": [
       "\u001b[36mfilePath\u001b[39m: \u001b[32mString\u001b[39m = \u001b[32m\"Anon_2_nah1.txt\"\u001b[39m\n",
       "\u001b[36murnBase\u001b[39m: \u001b[32mCtsUrn\u001b[39m = \u001b[33mCtsUrn\u001b[39m(\u001b[32m\"urn:cts:xolotl:anonMex.001.crapo_nah1:\"\u001b[39m)\n",
       "\u001b[36mcexHeaderPath\u001b[39m: \u001b[32mString\u001b[39m = \u001b[32m\"cex_header_anon_nah1.txt\"\u001b[39m\n",
       "\u001b[36mnumberOffset\u001b[39m: \u001b[32mInt\u001b[39m = \u001b[32m0\u001b[39m\n",
       "\u001b[36mfileName\u001b[39m: \u001b[32mString\u001b[39m = \u001b[32m\"anon_nah1.cex\"\u001b[39m\n",
       "\u001b[36mlines\u001b[39m: \u001b[32mVector\u001b[39m[\u001b[32mString\u001b[39m] = \u001b[33mVector\u001b[39m(\n",
       "  \u001b[32m\"[Ynic Capitulo II]<note n=\\\"88\\\">\"\u001b[39m,\n",
       "  \u001b[32m\"_nican motenehua<note n=\\\"89\\\"> yn\\u00edc \\u00f4me [.......n]<note n=\\\"90\\\"> oaltepe manaco nic\\u00e1 mex\\u00ed-catlal ytzmapan.<note n=\\\"91\\\">_\"\u001b[39m,\n",
       "  \u001b[32m\"Zatepanian moch\\u00ed yntlall\\u00ed ocahualoc yeo yaque intolteca ypan Yn tlatilanaltin tlazintlan, Ypanceme Altepetl qu\\u00edtocayo-tia<note n=\\\"93\\\"> Amaqu\\u00e9m\\u00ea.||<note n=\\\"94\\\"> ocatcaya<note n=\\\"95\\\"> \\u00e7e theuctl\\u00ed-yntlatocauh \\u00fd chichimeca ytocaCatca<note n=\\\"96\\\"> Tlamacatzin, auh y ni macehualhu\\u00e1, moch\\u00ed. cenpetlauhtinem\\u00eda, zantlaquentitinemia Yca tecuan cuetlaxt\\u00edn temamauhtique, cayncemitol yn Yaoyotl quipiaya tetotocamitl, mintli Yn tlahuitol, quicauyia yn tlen cacia yolcame papalome- omiqu\\u00ed Yn\\u00edn theuctli oquicauh o meme ypilhuan ceytoca Achcauhtzin, Xolotl- ynachto pa, oteuctic<note n=\\\"99\\\"> ypantlatocayotl, Yn\\u00edc ome amo yolo motlall\\u00ed yn\\u00eec amo o teuctia, Oquincentlall\\u00ed. Yaoteyecanque,<note n=\\\"102\\\"> tzontecomame qu\\u00edtoqu\\u00ednalquixtiz Yntle in Ynecocol,<note n=\\\"104\\\"> ochihualoc y niachtonhu\\u00e1 Yni colhuan, catca tonallixtlacu\\u00e2pan,|| inicuachoctlein<note n=\\\"106\\\"> machixt\\u00edticatca, oq[ui \\u2026 ]<note n=\\\"110\\\"> yna\\u00edemo qu\\u00edza\\u00eda, tlach\\u00edan[tizYxquizalo]<note n=\\\"111\\\"> Yan cu\\u00edcan V\\u00edzcaya caxtolpohual\\u00ed, mecatlapoall\\u00ed, auh ohualmocuepque tlanahuatico, ca moch\\u00ed yntlall\\u00ed, \\u00e2mo aca quip\\u00eea\\u00ed, yceltoc- ca oquitztiaque yn tetepanzoltin + calchihuali catc\\u00e2 \\u22d5<note n=\\\"114\\\"> chicnahui tlapoalpan cahuitl<note n=\\\"115\\\"> oquizqu\\u00ed Ynic cenmochtin yn\\u00ed macehualhuan, ca ohuallaya chi-cuaceme tlatoque auh yn nahuachu\\u00edc<note n=\\\"116\\\"> ohuallaya 25<note n=\\\"117\\\"> xiquipilli yn y\\u00e1otlya teayacanque; cace me yehu\\u00e1tin<note n=\\\"118\\\"> oquihualhuicaya onzontli Yhu\\u00e1 macu\\u00edlpoalli<note n=\\\"120\\\"> oquichtin; auh oquicauh yn theuctli. ycniuh ytoca Achcauhtz\\u00edn,<note n=\\\"123 \\\">cano ynahuac quicentlall\\u00ed, ynimacehual-hu\\u00e1, yepohua lli yhu\\u00e1 ome xiquipilli yhu\\u00e1 tl\\u00e2co, amo omo pouh cicihu\\u00e0 pipiltzin yVh<note n=\\\"124\\\"> neztoc ynimamauh mach\\u00edo,<note n=\\\"126\\\"> ce xiuhtica<note n=\\\"127\\\"> oac\\u00edco ce y eiantli qui to- cayo ti que chocoayan,<note n=\\\"130\\\"> oncan opanoque, Coatl ycamac, oncan opanoque, tepenenetl.<note n=\\\"131\\\"> caaxcan n\\u00f4matiyuh mo tocayo-tia yvhqu\\u00ed;<note n=\\\"132\\\"> oncan opano-que tollan caoncan ocazique calzontin, tetep\\u00e1tin, ymachio ca ocalpixque occeme tlaca, auh opanoque, mizqu\\u00ed Yahualan, amo cana omo-\"\u001b[39m,\n",
       "  \u001b[32m\"[ \\u2026 quetzque au]h<note n=\\\"133\\\"> omotlalico ypan ce tepetl ca [quicual]ytac,<note n=\\\"134\\\"> oquitocayoti yni noma Toca Xolotl, auh nomatica axcan catqu\\u00ed yni Toca, auh nican oquititlan y niPiltzin Nohpal-tzin, otlaltamachihuazquia, ca nomatica oyazquia quitemotiuh tlalyeiantl\\u00ed, yna huachuic<note n=\\\"136\\\"> oacico ypan tetepe cempohuall\\u00e1, yhu\\u00e1 t\\u00e9peapolco,<note n=\\\"\u001b[39m..."
      ]
     },
     "execution_count": 8,
     "metadata": {},
     "output_type": "execute_result"
    }
   ],
   "source": [
    "/*\n",
    "val filePath = s\"Anon_2_eng.txt\"\n",
    "val urnBase = CtsUrn(\"urn:cts:xolotl:anonMex.001.crapo_eng:\")\n",
    "val cexHeaderPath = s\"cex_header_anon_eng.txt\"\n",
    "val numberOffset: Int = 1\n",
    "val fileName: String = \"anon_eng.cex\"\n",
    "*/\n",
    "\n",
    "/*\n",
    "val filePath = s\"Anon_2_nah1.txt\"\n",
    "val urnBase = CtsUrn(\"urn:cts:xolotl:anonMex.001.crapo_nah1:\")\n",
    "val cexHeaderPath = s\"cex_header_anon_nah1.txt\"\n",
    "val numberOffset: Int = 0\n",
    "val fileName: String = \"anon_nah1.cex\"\n",
    "*/\n",
    "\n",
    "val filePath = s\"Anon_2_nah1.txt\"\n",
    "val urnBase = CtsUrn(\"urn:cts:xolotl:anonMex.001.crapo_nah1:\")\n",
    "val cexHeaderPath = s\"cex_header_anon_nah1.txt\"\n",
    "val numberOffset: Int = 0\n",
    "val fileName: String = \"anon_nah1.cex\"\n",
    "\n",
    "\n",
    "\n",
    "val lines: Vector[String] = {\n",
    "    scala.io.Source.fromFile(filePath).mkString.split(\"\\n\").toVector.filter( _.size > 1 )\n",
    "}"
   ]
  },
  {
   "cell_type": "markdown",
   "metadata": {},
   "source": [
    "### We need to capture citation values for Chapters and Paragraphs."
   ]
  },
  {
   "cell_type": "markdown",
   "metadata": {},
   "source": [
    "Let's attach an index-number to every line. This will be broadly useful. The result will be a Vector of Tuples: (String, Int). Since that will be confusing, we can create a Class called IndexedLine, and map to a Vector[IndexedLine]:"
   ]
  },
  {
   "cell_type": "code",
   "execution_count": 9,
   "metadata": {},
   "outputs": [
    {
     "data": {
      "text/plain": [
       "defined \u001b[32mclass\u001b[39m \u001b[36mIndexedLine\u001b[39m\n",
       "\u001b[36mindexedLines\u001b[39m: \u001b[32mVector\u001b[39m[\u001b[32mIndexedLine\u001b[39m] = \u001b[33mVector\u001b[39m(\n",
       "  \u001b[33mIndexedLine\u001b[39m(\u001b[32m0\u001b[39m, \u001b[32m\"[Ynic Capitulo II]<note n=\\\"88\\\">\"\u001b[39m),\n",
       "  \u001b[33mIndexedLine\u001b[39m(\n",
       "    \u001b[32m1\u001b[39m,\n",
       "    \u001b[32m\"_nican motenehua<note n=\\\"89\\\"> yn\\u00edc \\u00f4me [.......n]<note n=\\\"90\\\"> oaltepe manaco nic\\u00e1 mex\\u00ed-catlal ytzmapan.<note n=\\\"91\\\">_\"\u001b[39m\n",
       "  ),\n",
       "  \u001b[33mIndexedLine\u001b[39m(\n",
       "    \u001b[32m2\u001b[39m,\n",
       "    \u001b[32m\"Zatepanian moch\\u00ed yntlall\\u00ed ocahualoc yeo yaque intolteca ypan Yn tlatilanaltin tlazintlan, Ypanceme Altepetl qu\\u00edtocayo-tia<note n=\\\"93\\\"> Amaqu\\u00e9m\\u00ea.||<note n=\\\"94\\\"> ocatcaya<note n=\\\"95\\\"> \\u00e7e theuctl\\u00ed-yntlatocauh \\u00fd chichimeca ytocaCatca<note n=\\\"96\\\"> Tlamacatzin, auh y ni macehualhu\\u00e1, moch\\u00ed. cenpetlauhtinem\\u00eda, zantlaquentitinemia Yca tecuan cuetlaxt\\u00edn temamauhtique, cayncemitol yn Yaoyotl quipiaya tetotocamitl, mintli Yn tlahuitol, quicauyia yn tlen cacia yolcame papalome- omiqu\\u00ed Yn\\u00edn theuctli oquicauh o meme ypilhuan ceytoca Achcauhtzin, Xolotl- ynachto pa, oteuctic<note n=\\\"99\\\"> ypantlatocayotl, Yn\\u00edc ome amo yolo motlall\\u00ed yn\\u00eec amo o teuctia, Oquincentlall\\u00ed. Yaoteyecanque,<note n=\\\"102\\\"> tzontecomame qu\\u00edtoqu\\u00ednalquixtiz Yntle in Ynecocol,<note n=\\\"104\\\"> ochihualoc y niachtonhu\\u00e1 Yni colhuan, catca tonallixtlacu\\u00e2pan,|| inicuachoctlein<note n=\\\"106\\\"> machixt\\u00edticatca, oq[ui \\u2026 ]<note n=\\\"110\\\"> yna\\u00edemo qu\\u00edza\\u00eda, tlach\\u00edan[tizYxquizalo]<note n=\\\"111\\\"> Yan cu\\u00edcan V\\u00edzcaya caxtolpohual\\u00ed, mecatlapoall\\u00ed, auh ohualmocuepque tlanahuatico, ca moch\\u00ed yntlall\\u00ed, \\u00e2mo aca quip\\u00eea\\u00ed, yceltoc- ca oquitztiaque yn tetepanzoltin + calchihuali catc\\u00e2 \\u22d5<note n=\\\"114\\\"> chicnahui tlapoalpan cahuitl<note n=\\\"115\\\"> oquizqu\\u00ed Ynic cenmochtin yn\\u00ed macehualhuan, ca ohuallaya chi-cuaceme tlatoque auh yn nahuachu\\u00edc<note n=\\\"116\\\"> ohuallaya 25<note n=\\\"117\\\"> xiquipilli yn y\\u00e1otlya teayacanque; cace me yehu\\u00e1tin<note n=\\\"118\\\"> oquihualhuicaya onzontli Yhu\\u00e1 macu\\u00edlpoalli<note n=\\\"120\\\"> oquichtin; auh oquicauh yn theuctli. ycniuh ytoca Achcauhtz\\u00edn,<note n=\\\"123 \\\">cano ynahuac quicentlall\\u00ed, ynimacehual-hu\\u00e1, yepohua lli yhu\\u00e1 ome xiquipilli yhu\\u00e1 tl\\u00e2co, amo omo pouh cicihu\\u00e0 pipiltzin yVh<note n=\\\"124\\\"> neztoc ynimamauh mach\\u00edo,<note n=\\\"126\\\"> ce xiuhtica<note n=\\\"127\\\"> oac\\u00edco ce y eiantli qui to- cayo ti que chocoayan,<note n=\\\"130\\\"> oncan opanoque, Coatl ycamac, oncan opanoque, tepenenetl.<note n=\\\"131\\\"> caaxcan n\\u00f4matiyuh mo tocayo-tia yvhqu\\u00ed;<note n=\\\"132\\\"> oncan opano-que tollan caoncan ocazique calzontin, tetep\\u00e1tin, ymachio ca ocalpixque occeme tlaca, auh opanoque, mizqu\\u00ed Yahualan, amo cana omo-\"\u001b[39m\n",
       "..."
      ]
     },
     "execution_count": 9,
     "metadata": {},
     "output_type": "execute_result"
    }
   ],
   "source": [
    "case class IndexedLine( index: Int, text: String)\n",
    "val indexedLines: Vector[IndexedLine] = lines.zipWithIndex.map( l => {\n",
    "    IndexedLine( l._2, l._1 )\n",
    "})"
   ]
  },
  {
   "cell_type": "markdown",
   "metadata": {},
   "source": [
    "We can now build up a CEX expression of this Version…"
   ]
  },
  {
   "cell_type": "code",
   "execution_count": 10,
   "metadata": {
    "scrolled": true
   },
   "outputs": [
    {
     "data": {
      "text/plain": [
       "\u001b[36mparagraphCexVec\u001b[39m: \u001b[32mVector\u001b[39m[\u001b[32mCitableNode\u001b[39m] = \u001b[33mVector\u001b[39m(\n",
       "  \u001b[33mCitableNode\u001b[39m(\n",
       "    \u001b[33mCtsUrn\u001b[39m(\u001b[32m\"urn:cts:xolotl:anonMex.001.crapo_nah1:2.0\"\u001b[39m),\n",
       "    \u001b[32m\"[Ynic Capitulo II]<note n=\\\"88\\\">\"\u001b[39m\n",
       "  ),\n",
       "  \u001b[33mCitableNode\u001b[39m(\n",
       "    \u001b[33mCtsUrn\u001b[39m(\u001b[32m\"urn:cts:xolotl:anonMex.001.crapo_nah1:2.1\"\u001b[39m),\n",
       "    \u001b[32m\"_nican motenehua<note n=\\\"89\\\"> yn\\u00edc \\u00f4me [.......n]<note n=\\\"90\\\"> oaltepe manaco nic\\u00e1 mex\\u00ed-catlal ytzmapan.<note n=\\\"91\\\">_\"\u001b[39m\n",
       "  ),\n",
       "  \u001b[33mCitableNode\u001b[39m(\n",
       "    \u001b[33mCtsUrn\u001b[39m(\u001b[32m\"urn:cts:xolotl:anonMex.001.crapo_nah1:2.2\"\u001b[39m),\n",
       "    \u001b[32m\"Zatepanian moch\\u00ed yntlall\\u00ed ocahualoc yeo yaque intolteca ypan Yn tlatilanaltin tlazintlan, Ypanceme Altepetl qu\\u00edtocayo-tia<note n=\\\"93\\\"> Amaqu\\u00e9m\\u00ea.||<note n=\\\"94\\\"> ocatcaya<note n=\\\"95\\\"> \\u00e7e theuctl\\u00ed-yntlatocauh \\u00fd chichimeca ytocaCatca<note n=\\\"96\\\"> Tlamacatzin, auh y ni macehualhu\\u00e1, moch\\u00ed. cenpetlauhtinem\\u00eda, zantlaquentitinemia Yca tecuan cuetlaxt\\u00edn temamauhtique, cayncemitol yn Yaoyotl quipiaya tetotocamitl, mintli Yn tlahuitol, quicauyia yn tlen cacia yolcame papalome- omiqu\\u00ed Yn\\u00edn theuctli oquicauh o meme ypilhuan ceytoca Achcauhtzin, Xolotl- ynachto pa, oteuctic<note n=\\\"99\\\"> ypantlatocayotl, Yn\\u00edc ome amo yolo motlall\\u00ed yn\\u00eec amo o teuctia, Oquincentlall\\u00ed. Yaoteyecanque,<note n=\\\"102\\\"> tzontecomame qu\\u00edtoqu\\u00ednalquixtiz Yntle in Ynecocol,<note n=\\\"104\\\"> ochihualoc y niachtonhu\\u00e1 Yni colhuan, catca tonallixtlacu\\u00e2pan,|| inicuachoctlein<note n=\\\"106\\\"> machixt\\u00edticatca, oq[ui \\u2026 ]<note n=\\\"110\\\"> yna\\u00edemo qu\\u00edza\\u00eda, tlach\\u00edan[tizYxquizalo]<note n=\\\"111\\\"> Yan cu\\u00edcan V\\u00edzcaya caxtolpohual\\u00ed, mecatlapoall\\u00ed, auh ohualmocuepque tlanahuatico, ca moch\\u00ed yntlall\\u00ed, \\u00e2mo aca quip\\u00eea\\u00ed, yceltoc- ca oquitztiaque yn tetepanzoltin + calchihuali catc\\u00e2 \\u22d5<note n=\\\"114\\\"> chicnahui tlapoalpan cahuitl<note n=\\\"115\\\"> oquizqu\\u00ed Ynic cenmochtin yn\\u00ed macehualhuan, ca ohuallaya chi-cuaceme tlatoque auh yn nahuachu\\u00edc<note n=\\\"116\\\"> ohuallaya 25<note n=\\\"117\\\"> xiquipilli yn y\\u00e1otlya teayacanque; cace me yehu\\u00e1tin<note n=\\\"118\\\"> oquihualhuicaya onzontli Yhu\\u00e1 macu\\u00edlpoalli<note n=\\\"120\\\"> oquichtin; auh oquicauh yn theuctli. ycniuh ytoca Achcauhtz\\u00edn,<note n=\\\"123 \\\">cano ynahuac quicentlall\\u00ed, ynimacehual-hu\\u00e1, yepohua lli yhu\\u00e1 ome xiquipilli yhu\\u00e1 tl\\u00e2co, amo omo pouh cicihu\\u00e0 pipiltzin yVh<note n=\\\"124\\\"> neztoc ynimamauh mach\\u00edo,<note n=\\\"126\\\"> ce xiuhtica<note n=\\\"127\\\"> oac\\u00edco ce y eiantli qui to- cayo ti que chocoayan,<note n=\\\"130\\\"> oncan opanoque, Coatl ycamac, oncan opanoque, tepenen\u001b[39m..."
      ]
     },
     "execution_count": 10,
     "metadata": {},
     "output_type": "execute_result"
    }
   ],
   "source": [
    "val paragraphCexVec: Vector[CitableNode] = indexedLines.map( il => {\n",
    "    val u = urnBase.addPassage(s\"2.${il.index+numberOffset}\")\n",
    "    val psg = il.text\n",
    "    CitableNode(u, psg)\n",
    "})"
   ]
  },
  {
   "cell_type": "markdown",
   "metadata": {},
   "source": [
    "## Make a Sentence-Level Exemplar "
   ]
  },
  {
   "cell_type": "markdown",
   "metadata": {},
   "source": [
    "We have a section-level Version in `sectionCexVec`. Let's split that up into a Sentence-level exemplar."
   ]
  },
  {
   "cell_type": "code",
   "execution_count": 12,
   "metadata": {
    "scrolled": true
   },
   "outputs": [
    {
     "data": {
      "text/plain": [
       "\u001b[36msentenceSplitters\u001b[39m: \u001b[32mString\u001b[39m = \u001b[32m\"[\\u00b7.;?!]\"\u001b[39m\n",
       "\u001b[36mexemplarString\u001b[39m: \u001b[32mString\u001b[39m = \u001b[32m\"sentences\"\u001b[39m\n",
       "\u001b[36mversionNodes\u001b[39m: \u001b[32mVector\u001b[39m[\u001b[32mCitableNode\u001b[39m] = \u001b[33mVector\u001b[39m(\n",
       "  \u001b[33mCitableNode\u001b[39m(\n",
       "    \u001b[33mCtsUrn\u001b[39m(\u001b[32m\"urn:cts:xolotl:anonMex.001.crapo_nah1:2.0\"\u001b[39m),\n",
       "    \u001b[32m\"[Ynic Capitulo II]<note n=\\\"88\\\">\"\u001b[39m\n",
       "  ),\n",
       "  \u001b[33mCitableNode\u001b[39m(\n",
       "    \u001b[33mCtsUrn\u001b[39m(\u001b[32m\"urn:cts:xolotl:anonMex.001.crapo_nah1:2.1\"\u001b[39m),\n",
       "    \u001b[32m\"_nican motenehua<note n=\\\"89\\\"> yn\\u00edc \\u00f4me [.......n]<note n=\\\"90\\\"> oaltepe manaco nic\\u00e1 mex\\u00ed-catlal ytzmapan.<note n=\\\"91\\\">_\"\u001b[39m\n",
       "  ),\n",
       "  \u001b[33mCitableNode\u001b[39m(\n",
       "    \u001b[33mCtsUrn\u001b[39m(\u001b[32m\"urn:cts:xolotl:anonMex.001.crapo_nah1:2.2\"\u001b[39m),\n",
       "    \u001b[32m\"Zatepanian moch\\u00ed yntlall\\u00ed ocahualoc yeo yaque intolteca ypan Yn tlatilanaltin tlazintlan, Ypanceme Altepetl qu\\u00edtocayo-tia<note n=\\\"93\\\"> Amaqu\\u00e9m\\u00ea.||<note n=\\\"94\\\"> ocatcaya<note n=\\\"95\\\"> \\u00e7e theuctl\\u00ed-yntlatocauh \\u00fd chichimeca ytocaCatca<note n=\\\"96\\\"> Tlamacatzin, auh y ni macehualhu\\u00e1, moch\\u00ed. cenpetlauhtinem\\u00eda, zantlaquentitinemia Yca tecuan cuetlaxt\\u00edn temamauhtique, cayncemitol yn Yaoyotl quipiaya tetotocamitl, mintli Yn tlahuitol, quicauyia yn tlen cacia yolcame papalome- omiqu\\u00ed Yn\\u00edn theuctli oquicauh o meme ypilhuan ceytoca Achcauhtzin, Xolotl- ynachto pa, oteuctic<note n=\\\"99\\\"> ypantlatocayotl, Yn\\u00edc ome amo yolo motlall\\u00ed yn\\u00eec amo o teuctia, Oquincentlall\\u00ed. Yaoteyecanque,<note n=\\\"102\\\"> tzontecomame qu\\u00edtoqu\\u00ednalquixtiz Yntle in Ynecocol,<note n=\\\"104\\\"> ochihualoc y niachtonhu\\u00e1 Yni colhuan, catca tonallixtlacu\\u00e2pan,|| inicuachoctlein<note n=\\\"106\\\"> machixt\\u00edticatca, oq[ui \\u2026 ]<note n=\\\"110\\\"> yna\\u00edemo qu\\u00edza\\u00eda, tlach\\u00edan[tizYxquizalo]<note n=\\\"111\\\"> Yan cu\\u00edcan V\\u00edzcaya caxtolpohual\\u00ed, mecatlapoall\\u00ed, auh ohualmocuepque tlanahuatico, ca moch\\u00ed yntlall\\u00ed, \\u00e2mo aca quip\\u00eea\\u00ed, yceltoc- ca oquitztiaque yn tetepanzoltin + calchihuali catc\\u00e2 \\u22d5<note n=\\\"114\\\"> chicnahui tlapoalpan cahuitl<note n=\\\"115\\\"> oquizqu\\u00ed Ynic cenmochtin yn\\u00ed macehualhuan, ca ohuallaya chi-cuaceme tlatoque auh yn nahuachu\\u00edc<note n=\\\"116\\\"> ohuallaya 25<note n=\\\"117\\\"> xiquipilli yn y\\u00e1otlya teayacanque; cace me yehu\\u00e1tin<note n=\\\"118\\\"> oquihualhuicaya onzontli Yhu\\u00e1 macu\\u00edlpoalli<note n=\\\"120\\\"> oquichtin; auh oquicauh yn theuctli. ycniuh ytoca Achcauhtz\\u00edn,<note n=\\\"123 \\\">cano ynahuac quicentlall\\u00ed, ynimacehual-hu\\u00e1, yepohua lli yhu\\u00e1 ome xiquipilli yhu\\u00e1 tl\\u00e2co, amo omo pouh cicihu\\u00e0 pipiltzin yVh<note n=\\\"124\\\"> neztoc ynimamauh mach\\u00edo,<note n=\\\"126\\\"> ce xiuhtica<note n=\\\"127\\\"> oac\\u00edco ce y eiantli qui to- cayo ti que chocoayan,<note n=\\\"130\\\"> oncan opanoque, Coatl ycamac, oncan opanoque, tepenen\u001b[39m...\n",
       "\u001b[36mexemplarNodes\u001b[39m: \u001b[32mVector\u001b[39m[\u001b[32mCitableNode\u001b[39m] = \u001b[33mVector\u001b[39m(\n",
       "  \u001b[33mCitableNode\u001b[39m(\n",
       "    \u001b[33mCtsUrn\u001b[39m(\u001b[32m\"urn:cts:xolotl:anonMex.001.crapo_nah1.sentences:2.0.0\"\u001b[39m),\n",
       "    \u001b[32m\"[Ynic Capitulo II]<note n=\\\"88\\\">\"\u001b[39m\n",
       "  ),\n",
       "  \u001b[33mCitableNode\u001b[39m(\n",
       "    \u001b[33mCtsUrn\u001b[39m(\u001b[32m\"urn:cts:xolotl:anonMex.001.crapo_nah1.sentences:2.1.0\"\u001b[39m),\n",
       "    \u001b[32m\"_nican motenehua<note n=\\\"89\\\"> yn\\u00edc \\u00f4me [.\"\u001b[39m\n",
       "  ),\n",
       "  \u001b[33mCitableNode\u001b[39m(\n",
       "    \u001b[33mCtsUrn\u001b[39m(\u001b[32m\"urn:cts:xolotl:anonMex.001.crapo_nah1.sentences:2.1.1\"\u001b[39m),\n",
       "    \u001b[32m\"n]<note n=\\\"90\\\"> oaltepe manaco nic\\u00e1 mex\\u00ed-catlal ytzmapan.\"\u001b[39m\n",
       "  ),\n",
       "  \u001b[33mCitableNode\u001b[39m(\n",
       "    \u001b[33mCtsUrn\u001b[39m(\u001b[32m\"urn:cts:xolotl:anonMex.001.crapo_nah1.sentences:2.1.2\"\u001b[39m),\n",
       "    \u001b[32m\"<note n=\\\"91\\\">_\"\u001b[39m\n",
       "  ),\n",
       "  \u001b[33mCitableNode\u001b[39m(\n",
       "    \u001b[33mCtsUrn\u001b[39m(\u001b[32m\"urn:cts:xolotl:anonMex.001.crapo_nah1.sentences:2.2.0\"\u001b[39m),\n",
       "    \u001b[32m\"Zatepanian moch\\u00ed yntlall\\u00ed ocahualoc yeo yaque intolteca ypan Yn tlatilanaltin tlazintlan, Ypanceme Altepetl qu\\u00edtocayo-tia<note n=\\\"93\\\"> Amaqu\\u00e9m\\u00ea.\"\u001b[39m\n",
       "  ),\n",
       "  \u001b[33mCitableNode\u001b[39m(\n",
       "    \u001b[33mCtsUrn\u001b[39m(\u001b[32m\"urn:cts:xolotl:anonMex.001.crapo_nah1.sentences:2.2.1\"\u001b[39m),\n",
       "    \u001b[32m\"||<note n=\\\"94\\\"> ocatcaya<note n=\\\"95\\\"> \\u00e7e theuctl\\u00ed-yntlatocauh \\u00fd chichimeca ytocaCatca<note n=\\\"96\\\"> Tlamacatzin, auh y ni macehualhu\\u00e1, moch\\u00ed.\"\u001b[39m\n",
       "  ),\n",
       "  \u001b[33mCitableNode\u001b[39m(\n",
       "    \u001b[33mCtsUrn\u001b[39m(\u001b[32m\"urn:cts:xolotl:anonMex.001.crapo_nah1.sentences:2.2.2\"\u001b[39m),\n",
       "    \u001b[32m\" cenpetlauhtinem\\u00eda, zantlaquentitinemia Yca tecuan cuetlaxt\\u00edn temamauhtique, cayncemitol yn Yaoyotl quipiaya tetotocamitl, mintli Yn tlahuitol, quicauyia yn tlen cacia yolcame papalome- omiqu\\u00ed Yn\\u00edn theuctli oquicauh o meme ypilhuan ceytoca Achcauhtzin, Xolotl- ynachto pa, oteuctic<note n=\\\"99\\\"> ypantlatocayotl, Yn\\u00edc ome amo yolo motlall\\u00ed yn\\u00eec amo o teuctia, Oquincentlall\\u00ed.\"\u001b[39m\n",
       "  ),\n",
       "  \u001b[33mCitableNode\u001b[39m(\n",
       "..."
      ]
     },
     "execution_count": 12,
     "metadata": {},
     "output_type": "execute_result"
    }
   ],
   "source": [
    "val sentenceSplitters: String = \"\"\"[·.;?!]\"\"\"\n",
    "\n",
    "val exemplarString = \"sentences\"\n",
    "\n",
    "val versionNodes: Vector[CitableNode] = paragraphCexVec.map( scv => {\n",
    "    val urn = scv.urn\n",
    "    val text = scv.text\n",
    "    CitableNode(urn, text)\n",
    "})\n",
    "\n",
    "val exemplarNodes: Vector[CitableNode] = versionNodes.map( vn => {\n",
    "    val urn: CtsUrn = vn.urn\n",
    "    val txt: String = vn.text\n",
    "    val splitText: Vector[String] = splitWithSplitter(txt, sentenceSplitters).filter(_.size > 1)\n",
    "    splitText.zipWithIndex.map( st => {\n",
    "        val newUrnBase: CtsUrn = urn.addExemplar(exemplarString)\n",
    "        val newUrn: CtsUrn = CtsUrn(s\"${newUrnBase}.${st._2 + numberOffset}\")\n",
    "        val newTxt = st._1\n",
    "        CitableNode(newUrn, newTxt)\n",
    "    })\n",
    "}).flatten\n"
   ]
  },
  {
   "cell_type": "markdown",
   "metadata": {},
   "source": [
    "## Make Final CEX File"
   ]
  },
  {
   "cell_type": "code",
   "execution_count": 13,
   "metadata": {},
   "outputs": [
    {
     "data": {
      "text/plain": [
       "\u001b[36mheaderLines\u001b[39m: \u001b[32mVector\u001b[39m[\u001b[32mString\u001b[39m] = \u001b[33mVector\u001b[39m(\n",
       "  \u001b[32m\"#!cexversion\"\u001b[39m,\n",
       "  \u001b[32m\"3.0\"\u001b[39m,\n",
       "  \u001b[32m\"\"\u001b[39m,\n",
       "  \u001b[32m\"#!citelibrary\"\u001b[39m,\n",
       "  \u001b[32m\"name#CEX library\"\u001b[39m,\n",
       "  \u001b[32m\"urn#urn:cite2:cex:temp_xolotl.v1:temp1\"\u001b[39m,\n",
       "  \u001b[32m\"license#CC 3.0 NC-BY\"\u001b[39m,\n",
       "  \u001b[32m\"\"\u001b[39m,\n",
       "  \u001b[32m\"#!ctscatalog\"\u001b[39m,\n",
       "  \u001b[32m\"urn#citationScheme#groupName#workTitle#versionLabel#exemplarLabel#online#lang\"\u001b[39m,\n",
       "  \u001b[32m\"urn:cts:xolotl:anonMex.001.crapo_nah1:#chapter/section#Anonymo Mexicano#Bibliothe\\u0300que Nationale de Paris, coll. Aubin-Goupil 254: Documents en nahuatl relatifs aux Tolte\\u0300ques, etc.#Nahautl. Diplomatic. Richley H. Crapo, Bonnie Glass-Coffin, edd. and trans.##true#nah\"\u001b[39m,\n",
       "  \u001b[32m\"urn:cts:xolotl:anonMex.001.crapo_nah1.sentences:#chapter/section/sentence#Anonymo Mexicano#Bibliothe\\u0300que Nationale de Paris, coll. Aubin-Goupil 254: Documents en nahuatl relatifs aux Tolte\\u0300ques, etc.#Nahuatl. DiplomatiRichley H. Crapo, Bonnie Glass-Coffin, edd. and trans.#Sentence tokenization#true#nah\"\u001b[39m\n",
       ")\n",
       "\u001b[36mcexHeader\u001b[39m: \u001b[32mString\u001b[39m = \u001b[32m\"\"\"\n",
       "#!cexversion\n",
       "3.0\n",
       "\n",
       "#!citelibrary\n",
       "name#CEX library\n",
       "urn#urn:cite2:cex:temp_xolotl.v1:temp1\n",
       "license#CC 3.0 NC-BY\n",
       "\n",
       "#!ctscatalog\n",
       "urn#citationScheme#groupName#workTitle#versionLabel#exemplarLabel#online#lang\n",
       "urn:cts:xolotl:anonMex.001.crapo_nah1:#chapter/section#Anonymo Mexicano#Bibliothèque Nationale de Paris, coll. Aubin-Goupil 254: Documents en nahuatl relatifs aux Toltèques, etc.#Nahautl. Diplomatic. Richley H. Crapo, Bonnie Glass-Coffin, edd. and trans.##true#nah\n",
       "urn:cts:xolotl:anonMex.001.crapo_nah1.sentences:#chapter/section/sentence#Anonymo Mexicano#Bibliothèque Nationale de Paris, coll. Aubin-Goupil 254: Documents en nahuatl relatifs aux Toltèques, etc.#Nahuatl. DiplomatiRichley H. Crapo, Bonnie Glass-Coffin, edd. and trans.#Sentence tokenization#true#nah\"\"\"\u001b[39m\n",
       "\u001b[36mversionString\u001b[39m: \u001b[32mString\u001b[39m = \u001b[32m\"\"\"#!ctsdata\n",
       "urn:cts:xolotl:anonMex.001.crapo_nah1:2.0#[Ynic Capitulo II]<note n=\"88\">\n",
       "urn:cts:xolotl:anonMex.001.crapo_nah1:2.1#_nican motenehua<note n=\"89\"> yníc ôme [.......n]<note n=\"90\"> oaltepe manaco nicá mexí-catlal ytzmapan.<note n=\"91\">_\n",
       "urn:cts:xolotl:anonMex.001.crapo_nah1:2.2#Zatepanian mochí yntlallí ocahualoc yeo yaque intolteca ypan Yn tlatilanaltin tlazintlan, Ypanceme Altepetl quítocayo-tia<note n=\"93\"> Amaquémê.||<note n=\"94\"> ocatcaya<note n=\"95\"> çe theuctlí-yntlatocauh ý chichimeca ytocaCatca<note n=\"96\"> Tlamacatzin, auh y ni macehualhuá, mochí. cenpetlauhtinemía, zantlaquentitinemia Yca tecuan cuetlaxtín temamauhtique, cayncemitol yn Yaoyotl quipiaya tetotocamitl, mintli Yn tlahuitol, quicauyia yn tlen cacia yolcame papalome- omiquí Ynín theuctli oquicauh o meme ypilhuan ceytoca Achcauhtzin, Xolotl- ynachto pa, oteuctic<note n=\"99\"> ypantlatocayotl, Yníc ome amo yolo motlallí ynîc amo o teuctia, Oquincentlallí. Yaoteyecanque,<note n=\"102\"> tzontecomame quítoquínalquixtiz Yntle in Ynecocol,<note n=\"104\"> ochihualoc y niachtonhuá Yni colhuan, catca tonallixtlacuâpan,|| inicuachoctlein<note n=\"106\"> machixtíticatca, oq[ui … ]<note n=\"110\"> ynaíemo quízaía, tlachían[tizYxquizalo]<note n=\"111\"> Yan cuícan Vízcaya caxtolpohualí, mecatlapoallí, auh ohualmocuepque tlanahuatico, ca mochí yntlallí, âmo aca quipîaí, yceltoc- ca oquitztiaque yn tetepanzoltin + calchihuali catcâ ⋕<note n=\"114\"> chicnahui tlapoalpan cahuitl<note n=\"115\"> oquizquí Ynic cenmochtin yní macehualhuan, ca ohuallaya chi-cuaceme tlatoque auh yn nahuachuíc<note n=\"116\"> ohuallaya 25<note n=\"117\"> xiquipilli yn yáotlya teayacanque; cace me yehuátin<note n=\"118\"> oquihualhuicaya onzontli Yhuá macuílpoalli<note n=\"120\"> oquichtin; auh oquicauh yn theuctli. ycniuh ytoca Achcauhtzín,<note n=\"123 \">cano ynahuac quicentlallí, ynimacehual-huá, yepohua lli yhuá ome xiquipilli yhuá tlâco, amo omo pouh cicihuà pipiltzin yVh<note n=\"124\"> neztoc ynimamauh machío,<note n=\"126\"> ce xiuhtica<note n=\"127\"> oacíco ce y eiantli qui to- cayo ti que chocoayan,<note n=\"130\"> oncan opanoque, Coatl ycamac, oncan opanoque, tepenenetl.<note n=\"131\"> caaxcan nômatiyuh mo tocayo-tia yvhquí;<note n=\"132\"> oncan opano-que tollan caoncan ocazique calzontin, tetepátin, ymachio ca ocalpixque occeme tlaca, auh opanoque, mizquí Yahualan, amo cana omo-\n",
       "urn:cts:xolotl:anonMex.001.crapo_nah1:2.3#[ … quetzque au]h<note n=\"133\"> omotlalico ypan ce tepetl ca [quicual]ytac,<note n=\"134\"> oquitocayoti yni noma Toca Xolotl, auh nomatica axcan catquí yni Toca, auh nican oquititlan y niPiltzin Nohpal-tzin, otlaltamachihuazquia, ca nomatica oyazquia quitemotiuh tlalyeiantlí, yna huachuic<note n=\"136\"> oacico ypan tetepe cempohuallá, yhuá tépeapolco,<note n=\"137\"> niman omocuep Yncá-pa Yancuican omocehuí ypá tepetl, Xolotl auh yni Piltzin opanoc cuautlalpan<note n=\"139\"> catquí ynahuachuic tetzcoco otlachix<note n=\"140\"> cemix tlahuacan neztoia, ca otoctíCatca tlaolli, opanoc cuauhtlahuíc Pop\u001b[39m...\n",
       "\u001b[36mexemplarString\u001b[39m: \u001b[32mString\u001b[39m = \u001b[32m\"\"\"#!ctsdata\n",
       "urn:cts:xolotl:anonMex.001.crapo_nah1.sentences:2.0.0#[Ynic Capitulo II]<note n=\"88\">\n",
       "urn:cts:xolotl:anonMex.001.crapo_nah1.sentences:2.1.0#_nican motenehua<note n=\"89\"> yníc ôme [.\n",
       "urn:cts:xolotl:anonMex.001.crapo_nah1.sentences:2.1.1#n]<note n=\"90\"> oaltepe manaco nicá mexí-catlal ytzmapan.\n",
       "urn:cts:xolotl:anonMex.001.crapo_nah1.sentences:2.1.2#<note n=\"91\">_\n",
       "urn:cts:xolotl:anonMex.001.crapo_nah1.sentences:2.2.0#Zatepanian mochí yntlallí ocahualoc yeo yaque intolteca ypan Yn tlatilanaltin tlazintlan, Ypanceme Altepetl quítocayo-tia<note n=\"93\"> Amaquémê.\n",
       "urn:cts:xolotl:anonMex.001.crapo_nah1.sentences:2.2.1#||<note n=\"94\"> ocatcaya<note n=\"95\"> çe theuctlí-yntlatocauh ý chichimeca ytocaCatca<note n=\"96\"> Tlamacatzin, auh y ni macehualhuá, mochí.\n",
       "urn:cts:xolotl:anonMex.001.crapo_nah1.sentences:2.2.2#cenpetlauhtinemía, zantlaquentitinemia Yca tecuan cuetlaxtín temamauhtique, cayncemitol yn Yaoyotl quipiaya tetotocamitl, mintli Yn tlahuitol, quicauyia yn tlen cacia yolcame papalome- omiquí Ynín theuctli oquicauh o meme ypilhuan ceytoca Achcauhtzin, Xolotl- ynachto pa, oteuctic<note n=\"99\"> ypantlatocayotl, Yníc ome amo yolo motlallí ynîc amo o teuctia, Oquincentlallí.\n",
       "urn:cts:xolotl:anonMex.001.crapo_nah1.sentences:2.2.3#Yaoteyecanque,<note n=\"102\"> tzontecomame quítoquínalquixtiz Yntle in Ynecocol,<note n=\"104\"> ochihualoc y niachtonhuá Yni colhuan, catca tonallixtlacuâpan,|| inicuachoctlein<note n=\"106\"> machixtíticatca, oq[ui … ]<note n=\"110\"> ynaíemo quízaía, tlachían[tizYxquizalo]<note n=\"111\"> Yan cuícan Vízcaya caxtolpohualí, mecatlapoallí, auh ohualmocuepque tlanahuatico, ca mochí yntlallí, âmo aca quipîaí, yceltoc- ca oquitztiaque yn tetepanzoltin + calchihuali catcâ ⋕<note n=\"114\"> chicnahui tlapoalpan cahuitl<note n=\"115\"> oquizquí Ynic cenmochtin yní macehualhuan, ca ohuallaya chi-cuaceme tlatoque auh yn nahuachuíc<note n=\"116\"> ohuallaya 25<note n=\"117\"> xiquipilli yn yáotlya teayacanque;\n",
       "urn:cts:xolotl:anonMex.001.crapo_nah1.sentences:2.2.4#cace me yehuátin<note n=\"118\"> oquihualhuicaya onzontli Yhuá macuílpoalli<note n=\"120\"> oquichtin;\n",
       "urn:cts:xolotl:anonMex.001.crapo_nah1.sentences:2.2.5#auh oquicauh yn theuctli.\n",
       "urn:cts:xolotl:anonMex.001.crapo_nah1.sentences:2.2.6#ycniuh ytoca Achcauhtzín,<note n=\"123 \">cano ynahuac quicentlallí, ynimacehual-huá, yepohua lli yhuá ome xiquipilli yhuá tlâco, amo omo pouh cicihuà pipiltzin yVh<note n=\"124\"> neztoc ynimamauh machío,<note n=\"126\"> ce xiuhtica<note n=\"127\"> oacíco ce y eiantli qui to- cayo ti que chocoayan,<note n=\"130\"> oncan opanoque, Coatl ycamac, oncan opanoque, tepenenetl.\n",
       "\u001b[39m...\n",
       "\u001b[36mallCex\u001b[39m: \u001b[32mString\u001b[39m = \u001b[32m\"\"\"\n",
       "#!cexversion\n",
       "3.0\n",
       "\n",
       "#!citelibrary\n",
       "name#CEX library\n",
       "urn#urn:cite2:cex:temp_xolotl.v1:temp1\n",
       "license#CC 3.0 NC-BY\n",
       "\n",
       "#!ctscatalog\n",
       "urn#citationScheme#groupName#workTitle#versionLabel#exemplarLabel#online#lang\n",
       "urn:cts:xolotl:anonMex.001.crapo_nah1:#chapter/section#Anonymo Mexicano#Bibliothèque Nationale de Paris, coll. Aubin-Goupil 254: Documents en nahuatl relatifs aux Toltèques, etc.#Nahautl. Diplomatic. Richley H. Crapo, Bonnie Glass-Coffin, edd. and trans.##true#nah\n",
       "urn:cts:xolotl:anonMex.001.crapo_nah1.sentences:#chapter/section/sentence#Anonymo Mexicano#Bibliothèque Nationale de Paris, coll. Aubin-Goupil 254: Documents en nahuatl relatifs aux Toltèques, etc.#Nahuatl. DiplomatiRichley H. Crapo, Bonnie Glass-Coffin, edd. and trans.#Sentence tokenization#true#nah\n",
       "\n",
       "#!ctsdata\n",
       "urn:cts:xolotl:anonMex.001.crapo_nah1:2.0#[Ynic Capitulo II]<note n=\"88\">\n",
       "urn:cts:xolotl:anonMex.001.crapo_nah1:2.1#_nican motenehua<note n=\"89\"> yníc ôme [.......n]<note n=\"90\"> oaltepe manaco nicá mexí-catlal ytzmapan.<note n=\"91\">_\n",
       "urn:cts:xolotl:anonMex.001.crapo_nah1:2.2#Zatepanian mochí yntlallí ocahualoc yeo yaque intolteca ypan Yn tlatilanaltin tlazintlan, Ypanceme Altepetl quítocayo-tia<note n=\"93\"> Amaquémê.||<note n=\"94\"> ocatcaya<note n=\"95\"> çe theuctlí-yntlatocauh ý chichimeca ytocaCatca<note n=\"96\"> Tlamacatzin, auh y ni macehualhuá, mochí. cenpetlauhtinemía, zantlaquentitinemia Yca tecuan cuetlaxtín temamauhtique, cayncemitol yn Yaoyotl quipiaya tetotocamitl, mintli Yn tlahuitol, quicauyia yn tlen cacia yolcame papalome- omiquí Ynín theuctli oquicauh o meme ypilhuan ceytoca Achcauhtzin, Xolotl- ynachto pa, oteuctic<note n=\"99\"> ypantlatocayotl, Yníc ome amo yolo motlallí ynîc amo o teuctia, Oquincentlallí. Yaoteyecanque,<note n=\"102\"> tzontecomame quítoquínalquixtiz Yntle in Ynecocol,<note n=\"104\"> ochihualoc y niachtonhuá Yni colhuan, catca tonallixtlacuâpan,|| inicuachoctlein<note n=\"106\"> machixtíticatca, oq[ui … ]<note n=\"110\"> ynaíemo quízaía, tlachían[tizYxquizalo]<note n=\"111\"> Yan cuícan Vízcaya caxtolpohualí, mecatlapoallí, auh ohualmocuepque tlanahuatico, ca mochí yntlallí, âmo aca quipîaí, yceltoc- ca oquitztiaque yn tetepanzoltin + calchihuali catcâ ⋕<note n=\"114\"> chicnahui tlapoalpa\u001b[39m..."
      ]
     },
     "execution_count": 13,
     "metadata": {},
     "output_type": "execute_result"
    }
   ],
   "source": [
    "\n",
    "val headerLines: Vector[String] = {\n",
    "    scala.io.Source.fromFile(cexHeaderPath).mkString.split(\"\\n\").toVector\n",
    "}\n",
    "val cexHeader: String = \"\\n\" + headerLines.mkString(\"\\n\")\n",
    "\n",
    "val versionString = \"#!ctsdata\" + \"\\n\" + Corpus(versionNodes).cex(\"#\") + \"\\n\\n\"\n",
    "val exemplarString = \"#!ctsdata\" + \"\\n\" + Corpus(exemplarNodes).cex(\"#\").replaceAll(\"# +\",\"#\")\n",
    "val allCex = cexHeader + \"\\n\\n\" + versionString + \"\\n\\n\" + exemplarString"
   ]
  },
  {
   "cell_type": "markdown",
   "metadata": {},
   "source": [
    "Save it!"
   ]
  },
  {
   "cell_type": "code",
   "execution_count": 14,
   "metadata": {},
   "outputs": [],
   "source": [
    "saveString( allCex, \"cex/\", fileName)"
   ]
  },
  {
   "cell_type": "code",
   "execution_count": null,
   "metadata": {},
   "outputs": [],
   "source": []
  },
  {
   "cell_type": "code",
   "execution_count": null,
   "metadata": {},
   "outputs": [],
   "source": []
  }
 ],
 "metadata": {
  "kernel_info": {
   "name": "scala"
  },
  "kernelspec": {
   "display_name": "Scala",
   "language": "scala",
   "name": "scala"
  },
  "language_info": {
   "codemirror_mode": "text/x-scala",
   "file_extension": ".scala",
   "mimetype": "text/x-scala",
   "name": "scala",
   "nbconvert_exporter": "script",
   "version": "2.12.10"
  },
  "nteract": {
   "version": "0.15.0"
  }
 },
 "nbformat": 4,
 "nbformat_minor": 2
}
